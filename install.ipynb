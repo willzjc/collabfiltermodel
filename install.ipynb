{
 "cells": [
  {
   "cell_type": "code",
   "execution_count": null,
   "metadata": {},
   "outputs": [],
   "source": [
    "!pip3 install joblib==1.3.2\n",
    "!pip3 install numpy==1.26.4\n",
    "!pip3 install pandas==2.2.1\n",
    "!pip3 install python-dateutil==2.9.0.post0\n",
    "!pip3 install pytz==2024.1\n",
    "!pip3 install scikit-learn==1.4.1.post1\n",
    "!pip3 install scikit-surprise==1.1.3\n",
    "!pip3 install scipy==1.12.0\n",
    "!pip3 install six==1.16.0\n",
    "!pip3 install threadpoolctl==3.3.0\n",
    "!pip3 install tzdata==2024.1\n"
   ]
  }
 ],
 "metadata": {
  "kernelspec": {
   "display_name": "Python 3",
   "language": "python",
   "name": "python3"
  },
  "language_info": {
   "codemirror_mode": {
    "name": "ipython",
    "version": 3
   },
   "file_extension": ".py",
   "mimetype": "text/x-python",
   "name": "python",
   "nbconvert_exporter": "python",
   "pygments_lexer": "ipython3",
   "version": "3.9.6"
  }
 },
 "nbformat": 4,
 "nbformat_minor": 2
}
